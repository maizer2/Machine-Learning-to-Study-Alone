{
 "cells": [
  {
   "cell_type": "code",
   "execution_count": 267,
   "id": "da9bc425",
   "metadata": {},
   "outputs": [],
   "source": [
    "import matplotlib.pyplot as plt\n",
    "import torch\n",
    "import numpy as np"
   ]
  },
  {
   "cell_type": "code",
   "execution_count": 268,
   "id": "279dcb95",
   "metadata": {},
   "outputs": [],
   "source": [
    "bream_length = [25.4, 26.3, 26.5, 29.0, 29.0, 29.7, 29.7, 30.0, 30.0, 30.7, 31.0, 31.0, \n",
    "                31.5, 32.0, 32.0, 32.0, 33.0, 33.0, 33.5, 33.5, 34.0, 34.0, 34.5, 35.0, \n",
    "                35.0, 35.0, 35.0, 36.0, 36.0, 37.0, 38.5, 38.5, 39.5, 41.0, 41.0]\n",
    "bream_weight = [242.0, 290.0, 340.0, 363.0, 430.0, 450.0, 500.0, 390.0, 450.0, 500.0, 475.0, 500.0, \n",
    "                500.0, 340.0, 600.0, 600.0, 700.0, 700.0, 610.0, 650.0, 575.0, 685.0, 620.0, 680.0, \n",
    "                700.0, 725.0, 720.0, 714.0, 850.0, 1000.0, 920.0, 955.0, 925.0, 975.0, 950.0]\n",
    "\n",
    "smelt_length = [9.8, 10.5, 10.6, 11.0, 11.2, 11.3, 11.8, 11.8, 12.0, 12.2, 12.4, 13.0, 14.3, 15.0]\n",
    "smelt_weight = [6.7, 7.5, 7.0, 9.7, 9.8, 8.7, 10.0, 9.9, 9.8, 12.2, 13.4, 12.2, 19.7, 19.9]"
   ]
  },
  {
   "cell_type": "code",
   "execution_count": 269,
   "id": "86ec65a4",
   "metadata": {},
   "outputs": [],
   "source": [
    "length = bream_length + smelt_length\n",
    "weight = bream_weight + smelt_weight\n",
    "\n",
    "fish_data = torch.tensor([\n",
    "    [l, w] for l, w in zip(length, weight) \n",
    "])"
   ]
  },
  {
   "cell_type": "code",
   "execution_count": 270,
   "id": "826e3859",
   "metadata": {},
   "outputs": [],
   "source": [
    "# 도미와 생선을 맞출 수 있도록 정답 데이터를 만들어 준다.\n",
    "# 정답 데이터는 위 데이터의 row의 길이를 가져야 한다.\n",
    "\n",
    "bream_target = torch.ones(len(bream_length), dtype=torch.int32)\n",
    "smelt_target = torch.zeros(len(smelt_length), dtype=torch.int32)\n",
    "\n",
    "fish_target = torch.cat([bream_target, smelt_target])\n",
    "fish_target = torch.reshape(fish_target, (len(fish_target), 1))\n"
   ]
  },
  {
   "cell_type": "code",
   "execution_count": 271,
   "id": "ad5edfd6",
   "metadata": {},
   "outputs": [],
   "source": [
    "def sort(data, distance):\n",
    "    # data[][0] -> length\n",
    "    # data[][1] -> weight\n",
    "    # data[][2] -> target\n",
    "    # data[][3] -> distance\n",
    "    # data[][4] -> count\n",
    "    data = torch.cat([data, distance], 1)\n",
    "\n",
    "    for i in range(len(data)):\n",
    "        for j in range(i):\n",
    "            if data[i][3] < data[j][3]:\n",
    "                data[j], data[i] = data[i].clone(), data[j].clone()\n",
    "\n",
    "    return data\n",
    "\n"
   ]
  },
  {
   "cell_type": "code",
   "execution_count": 272,
   "id": "0d7de434",
   "metadata": {},
   "outputs": [],
   "source": [
    "# k 최근점에 사용될 데이터간의 거리를 계산한다\n",
    "def distance(data):\n",
    "\n",
    "    distance = torch.zeros([len(data), 2])   #distance[][0] 은 계산된 거리데이터가, di..[][1]은 순서가, sort해도 기억할 수 있게\n",
    "\n",
    "    # 반복할 떄 자기 자신은 제외하고 계산 해야함, 자기자신을 포함하고 k + 1을 해준다?\n",
    "    for i in range(len(data)):\n",
    "        for j in range(len(data)):\n",
    "            distance_ = 0\n",
    "            count = 0\n",
    "\n",
    "            for k in range(2):\n",
    "                # a^2 + b^2 = c^2\n",
    "                distance_ += (data[i][k] - data[j][k])**2\n",
    "                count = j\n",
    "\n",
    "            distance[i][0], distance[i][1] = (distance_)**(1/2), i\n",
    "        \n",
    "    return distance"
   ]
  },
  {
   "cell_type": "code",
   "execution_count": 273,
   "id": "03c5af1b",
   "metadata": {},
   "outputs": [],
   "source": [
    "# k-최근접 이웃 알고리즘을 구현해본다.\n",
    "## 총 데이터를 비교해 거리를 구한다.\n",
    "### 거리를  sort해서 k만큼 구한다.\n",
    "#### k개 데이터들이 속하는 클래스 비율을 통해 클래스를 판단한다.\n",
    "\n",
    "# distance에 계산된 거리 데이터가 다 차면 해야하는 것\n",
    "## sort후 k만큼? 더 좋은건 없을까?\n",
    "###sort하면 데이터가 섞일건데 \n",
    "### 섞여도 상관없이 순서 데이터를 넣어줄까?\n",
    "## torch.sort를 사용하려고 했는데 내 목적에 맞지 않는거 같다... 생로 만들어야할 듯\n",
    "def knn(data_set, target_set, k):\n",
    "    \n",
    "    data = torch.cat([data_set, target_set], 1)   #두 데이터를 합친다. 식별할 수 있는 데이터 열이 생긴다.\n",
    "    \n",
    "    dist = distance(data)\n",
    "\n",
    "    data = sort(data, dist)\n",
    "\n",
    "    #1이면 bream, 0이면 smelt\n",
    "    bream, smelt = 0, 0\n",
    "\n",
    "    for i in range(k):\n",
    "        if data[i][2] == 0:\n",
    "            smelt += 1\n",
    "        else:\n",
    "            bream += 1\n",
    "\n",
    "    if bream > smelt:\n",
    "        print(\"bream\")\n",
    "    else:\n",
    "        print(\"smelt\")\n",
    "    # 자기 자신 데이터 \n",
    "    \n"
   ]
  },
  {
   "cell_type": "code",
   "execution_count": 274,
   "id": "6b377ec7",
   "metadata": {},
   "outputs": [],
   "source": [
    "def show():\n",
    "    plt.scatter(length, weight)\n",
    "    plt.xlabel('length')\n",
    "    plt.ylabel('weight')\n",
    "    plt.show()"
   ]
  },
  {
   "cell_type": "code",
   "execution_count": 275,
   "id": "b9237846",
   "metadata": {},
   "outputs": [
    {
     "name": "stdout",
     "output_type": "stream",
     "text": [
      "smelt\n"
     ]
    }
   ],
   "source": [
    "knn(fish_data, fish_target, 3)"
   ]
  }
 ],
 "metadata": {
  "kernelspec": {
   "display_name": "Python 3",
   "language": "python",
   "name": "python3"
  },
  "language_info": {
   "codemirror_mode": {
    "name": "ipython",
    "version": 3
   },
   "file_extension": ".py",
   "mimetype": "text/x-python",
   "name": "python",
   "nbconvert_exporter": "python",
   "pygments_lexer": "ipython3",
   "version": "3.6.13"
  }
 },
 "nbformat": 4,
 "nbformat_minor": 5
}
