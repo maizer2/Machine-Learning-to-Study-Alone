{
 "cells": [
  {
   "cell_type": "code",
   "execution_count": 34,
   "id": "da9bc425",
   "metadata": {},
   "outputs": [],
   "source": [
    "import matplotlib.pyplot as plt\n",
    "import torch"
   ]
  },
  {
   "cell_type": "code",
   "execution_count": 47,
   "id": "279dcb95",
   "metadata": {},
   "outputs": [],
   "source": [
    "bream_length = [25.4, 26.3, 26.5, 29.0, 29.0, 29.7, 29.7, 30.0, 30.0, 30.7, 31.0, 31.0, \n",
    "                31.5, 32.0, 32.0, 32.0, 33.0, 33.0, 33.5, 33.5, 34.0, 34.0, 34.5, 35.0, \n",
    "                35.0, 35.0, 35.0, 36.0, 36.0, 37.0, 38.5, 38.5, 39.5, 41.0, 41.0]\n",
    "bream_weight = [242.0, 290.0, 340.0, 363.0, 430.0, 450.0, 500.0, 390.0, 450.0, 500.0, 475.0, 500.0, \n",
    "                500.0, 340.0, 600.0, 600.0, 700.0, 700.0, 610.0, 650.0, 575.0, 685.0, 620.0, 680.0, \n",
    "                700.0, 725.0, 720.0, 714.0, 850.0, 1000.0, 920.0, 955.0, 925.0, 975.0, 950.0]\n",
    "\n",
    "smelt_length = [9.8, 10.5, 10.6, 11.0, 11.2, 11.3, 11.8, 11.8, 12.0, 12.2, 12.4, 13.0, 14.3, 15.0]\n",
    "smelt_weight = [6.7, 7.5, 7.0, 9.7, 9.8, 8.7, 10.0, 9.9, 9.8, 12.2, 13.4, 12.2, 19.7, 19.9]"
   ]
  },
  {
   "cell_type": "code",
   "execution_count": 36,
   "id": "86ec65a4",
   "metadata": {},
   "outputs": [],
   "source": [
    "length = bream_length + smelt_length\n",
    "weight = bream_weight + smelt_weight"
   ]
  },
  {
   "cell_type": "code",
   "execution_count": 44,
   "id": "27d20fdb",
   "metadata": {},
   "outputs": [],
   "source": [
    "fish_data = torch.tensor([\n",
    "    [l, w] for l, w in zip(length, weight) \n",
    "])"
   ]
  },
  {
   "cell_type": "code",
   "execution_count": 45,
   "id": "e8ab31a5",
   "metadata": {},
   "outputs": [
    {
     "name": "stdout",
     "output_type": "stream",
     "text": [
      "tensor([[  25.4000,  242.0000],\n",
      "        [  26.3000,  290.0000],\n",
      "        [  26.5000,  340.0000],\n",
      "        [  29.0000,  363.0000],\n",
      "        [  29.0000,  430.0000],\n",
      "        [  29.7000,  450.0000],\n",
      "        [  29.7000,  500.0000],\n",
      "        [  30.0000,  390.0000],\n",
      "        [  30.0000,  450.0000],\n",
      "        [  30.7000,  500.0000],\n",
      "        [  31.0000,  475.0000],\n",
      "        [  31.0000,  500.0000],\n",
      "        [  31.5000,  500.0000],\n",
      "        [  32.0000,  340.0000],\n",
      "        [  32.0000,  600.0000],\n",
      "        [  32.0000,  600.0000],\n",
      "        [  33.0000,  700.0000],\n",
      "        [  33.0000,  700.0000],\n",
      "        [  33.5000,  610.0000],\n",
      "        [  33.5000,  650.0000],\n",
      "        [  34.0000,  575.0000],\n",
      "        [  34.0000,  685.0000],\n",
      "        [  34.5000,  620.0000],\n",
      "        [  35.0000,  680.0000],\n",
      "        [  35.0000,  700.0000],\n",
      "        [  35.0000,  725.0000],\n",
      "        [  35.0000,  720.0000],\n",
      "        [  36.0000,  714.0000],\n",
      "        [  36.0000,  850.0000],\n",
      "        [  37.0000, 1000.0000],\n",
      "        [  38.5000,  920.0000],\n",
      "        [  38.5000,  955.0000],\n",
      "        [  39.5000,  925.0000],\n",
      "        [  41.0000,  975.0000],\n",
      "        [  41.0000,  950.0000],\n",
      "        [   9.8000,    6.7000],\n",
      "        [  10.5000,    7.5000],\n",
      "        [  10.6000,    7.0000],\n",
      "        [  11.0000,    9.7000],\n",
      "        [  11.2000,    9.8000],\n",
      "        [  11.3000,    8.7000],\n",
      "        [  11.8000,   10.0000],\n",
      "        [  11.8000,    9.9000],\n",
      "        [  12.0000,    9.8000],\n",
      "        [  12.2000,   12.2000],\n",
      "        [  12.4000,   13.4000],\n",
      "        [  13.0000,   12.2000],\n",
      "        [  14.3000,   19.7000],\n",
      "        [  15.0000,   19.9000]])\n"
     ]
    }
   ],
   "source": [
    "print(fish_data)# row = 데이트 총개수, column = 변수 개수 -> (len(lenght), 2)"
   ]
  },
  {
   "cell_type": "code",
   "execution_count": 61,
   "id": "826e3859",
   "metadata": {},
   "outputs": [
    {
     "data": {
      "text/plain": [
       "tensor([1, 1, 1, 1, 1, 1, 1, 1, 1, 1, 1, 1, 1, 1, 1, 1, 1, 1, 1, 1, 1, 1, 1, 1,\n",
       "        1, 1, 1, 1, 1, 1, 1, 1, 1, 1, 1, 0, 0, 0, 0, 0, 0, 0, 0, 0, 0, 0, 0, 0,\n",
       "        0], dtype=torch.int32)"
      ]
     },
     "execution_count": 61,
     "metadata": {},
     "output_type": "execute_result"
    }
   ],
   "source": [
    "# 도미와 생선을 맞출 수 있도록 정답 데이터를 만들어 준다.\n",
    "# 정답 데이터는 위 데이터의 row의 길이를 가져야 한다.\n",
    "\n",
    "bream_target = torch.ones(len(bream_length), dtype=torch.int32)\n",
    "smelt_target = torch.zeros(len(smelt_length), dtype=torch.int32)\n",
    "\n",
    "fish_target = torch.cat([bream_target, smelt_target])\n",
    "fish_target"
   ]
  },
  {
   "cell_type": "code",
   "execution_count": 66,
   "id": "f2c29d20",
   "metadata": {},
   "outputs": [
    {
     "data": {
      "text/plain": [
       "tensor([ 26.3000, 290.0000])"
      ]
     },
     "execution_count": 66,
     "metadata": {},
     "output_type": "execute_result"
    }
   ],
   "source": [
    "fish_data[1]"
   ]
  },
  {
   "cell_type": "code",
   "execution_count": 67,
   "id": "03c5af1b",
   "metadata": {},
   "outputs": [],
   "source": [
    "# k-최근접 이웃 알고리즘을 구현해본다.\n",
    "## 총 데이터를 비교해 거리를 구한다.\n",
    "### 거리를  sort해서 k만큼 구한다.\n",
    "#### k개 데이터들이 속하는 클래스 비율을 통해 클래스를 판단한다.\n",
    "def knn(data_set, target_set, k):\n",
    "    \n",
    "    data = torch.cat([data_set, target_set])   #두 데이터를 합친다. 식별할 수 있는 데이터 열이 생긴다.\n",
    "    \n",
    "    distance = torch.zeros([len(data_set), 1])\n",
    "    \n",
    "    # 반복할 떄 자기 자신은 제외하고 계산 해야함, 자기자신을 포함하고 k + 1을 해준다?\n",
    "    for i in range(len(data)):\n",
    "        for j in range(len(data)):\n",
    "            distance_ = 0\n",
    "            for k in range(2):\n",
    "                distance_ += data[i][k] - data[j][k]\n",
    "                \n",
    "            distance[j] = distance_\n",
    "    "
   ]
  },
  {
   "cell_type": "code",
   "execution_count": 35,
   "id": "6b377ec7",
   "metadata": {},
   "outputs": [
    {
     "data": {
      "image/png": "[encoded data removed]",
      "text/plain": [
       "<Figure size 432x288 with 1 Axes>"
      ]
     },
     "metadata": {
      "needs_background": "light"
     },
     "output_type": "display_data"
    }
   ],
   "source": [
    "plt.scatter(length, weight)\n",
    "plt.xlabel('length')\n",
    "plt.ylabel('weight')\n",
    "plt.show()"
   ]
  },
  {
   "cell_type": "code",
   "execution_count": null,
   "id": "91891ada",
   "metadata": {},
   "outputs": [],
   "source": []
  }
 ],
 "metadata": {
  "kernelspec": {
   "display_name": "Python 3",
   "language": "python",
   "name": "python3"
  },
  "language_info": {
   "codemirror_mode": {
    "name": "ipython",
    "version": 3
   },
   "file_extension": ".py",
   "mimetype": "text/x-python",
   "name": "python",
   "nbconvert_exporter": "python",
   "pygments_lexer": "ipython3",
   "version": "3.6.13"
  }
 },
 "nbformat": 4,
 "nbformat_minor": 5
}
